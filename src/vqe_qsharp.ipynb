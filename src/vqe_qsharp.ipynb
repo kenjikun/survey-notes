{
 "cells": [
  {
   "cell_type": "code",
   "execution_count": 22,
   "metadata": {},
   "outputs": [
    {
     "name": "stdout",
     "output_type": "stream",
     "text": [
      "/snippet:(1,90): warning QS6003: The namespace with that name is already open.\n"
     ]
    },
    {
     "data": {
      "application/json": "[\"Optimize\",\"SetAnsatz\"]",
      "text/html": [
       "<ul><li>Optimize</li><li>SetAnsatz</li></ul>"
      ],
      "text/plain": [
       "Optimize, SetAnsatz"
      ]
     },
     "execution_count": 22,
     "metadata": {},
     "output_type": "execute_result"
    }
   ],
   "source": [
    "open Microsoft.Quantum.Primitive;\n",
    "\n",
    "operation SetAnsatz(theta: Double, q: Qubit) : Unit{\n",
    "    Reset(q);\n",
    "    Ry(theta, q);\n",
    "}\n",
    "\n",
    "operation Measure(theta: Double, trials: Int) : Result {\n",
    "    mutable result = Zero;\n",
    "    for SetAnsatz(theta)\n",
    "}\n",
    "\n",
    "function Expectation()\n",
    "\n",
    "function Optimize(theta: Double) : (Double) {\n",
    "    return theta + 0.01;\n",
    "}\n",
    "\n"
   ]
  }
 ],
 "metadata": {
  "kernelspec": {
   "display_name": "Q#",
   "language": "qsharp",
   "name": "iqsharp"
  },
  "language_info": {
   "file_extension": ".qs",
   "mimetype": "text/x-qsharp",
   "name": "qsharp",
   "version": "0.4"
  }
 },
 "nbformat": 4,
 "nbformat_minor": 2
}
