{
 "cells": [
  {
   "cell_type": "markdown",
   "metadata": {},
   "source": [
    "# Q# notebooks\n",
    "このnotebookは量子アプリケーションのnotebookを書くときのIQ#の使い方を解説します．"
   ]
  },
  {
   "cell_type": "markdown",
   "metadata": {},
   "source": [
    "## Q#アプリケーションのコンパイル\n",
    "operation はQ#での量子プログラムの基本的な単位です．大まかに言うと，CやC++，Pythonでの関数やC#やJavaでの静的メソッドと同等です．\n",
    "\n",
    "IQ#はQ#のJupyterカーネルで，code cell に　直接Q#のoperationを書くことができて，cellを実行(Ctrl/⌘+Enter)することでコンパイルができます．例えば，"
   ]
  },
  {
   "cell_type": "code",
   "execution_count": 9,
   "metadata": {},
   "outputs": [
    {
     "data": {
      "application/json": "[\"HelloQ\"]",
      "text/html": [
       "<ul><li>HelloQ</li></ul>"
      ],
      "text/plain": [
       "HelloQ"
      ]
     },
     "execution_count": 9,
     "metadata": {},
     "output_type": "execute_result"
    }
   ],
   "source": [
    "operation HelloQ(name: String) : Unit {\n",
    "    // 次の行はコンソールにメッセージを出力します．\n",
    "    Message($\"Hello {name}!\");\n",
    "}"
   ]
  },
  {
   "cell_type": "markdown",
   "metadata": {},
   "source": [
    "セルを**実行**したとき，Q#はコードをコンパイルして，セル内にあるoperationの名前を返します．上のセルの場合，ただ一つのoperation(HelloQ)が返されます．\n",
    "\n",
    "もし，コンパイラがエラーを見つけると，operationの名前の代わりにoutputにエラーのリストが表示されます．例えば，"
   ]
  },
  {
   "cell_type": "code",
   "execution_count": 11,
   "metadata": {},
   "outputs": [
    {
     "name": "stderr",
     "output_type": "stream",
     "text": [
      "/snippet:(4,5): error QS5022: No variable with that name exists.\n",
      "/snippet:(7,12): error QS6211: Unexpected argument tuple. Expecting an argument of type String.\n"
     ]
    }
   ],
   "source": [
    "operation InvalidQ() : Unit {\n",
    "\n",
    "    // `FooBar` operation は存在しないので，次の行は`No variable with that name exists.`というエラーを発生させます．\n",
    "    FooBar(\"Hello again!\");\n",
    "    \n",
    "    // `Message`の引数はstring1つだけなので，次の行は`Unexpected argument tuple`というエラーを発生させます．\n",
    "    Message(1, 2);\n",
    "}"
   ]
  },
  {
   "cell_type": "markdown",
   "metadata": {},
   "source": [
    "Q#のoparationはそれより前に定義された他のoperationを呼び出すことができます．また，[Microsoft.Quantum.Primitive](https://docs.microsoft.com/en-us/qsharp/api/prelude/microsoft.quantum.primitive)や[Microsoft.Quantum.Canon](https://docs.microsoft.com/en-us/qsharp/api/canon/microsoft.quantum.canon)といった名前空間にあるoperation(例えば[Message](https://docs.microsoft.com/en-us/qsharp/api/prelude/microsoft.quantum.primitive.message))を呼び出すことができます．\n",
    "\n",
    "例えば，上で定義されたHelloQというoperationを呼び出す新しいoperationを呼び出すことができます．"
   ]
  },
  {
   "cell_type": "code",
   "execution_count": 12,
   "metadata": {},
   "outputs": [
    {
     "data": {
      "application/json": "[\"HelloAndres\"]",
      "text/html": [
       "<ul><li>HelloAndres</li></ul>"
      ],
      "text/plain": [
       "HelloAndres"
      ]
     },
     "execution_count": 12,
     "metadata": {},
     "output_type": "execute_result"
    }
   ],
   "source": [
    "operation HelloAndres() : Unit {\n",
    "    HelloQ(\"Andres\");\n",
    "}"
   ]
  },
  {
   "cell_type": "markdown",
   "metadata": {},
   "source": [
    "open文を使った名前空間をインポートすることで，他の名前空間で定義された全ての[Q# Prelude](https://docs.microsoft.com/en-us/qsharp/api/?view=qsharp-preview)を利用することが可能です．例えば，PIを使う場合，名前空間Microsoft.Quantum.Extensions.Mathを開く必要があります．もしくは，完全に修飾された名前を指定することでoperationを呼び出すこともできます．例えば，"
   ]
  },
  {
   "cell_type": "code",
   "execution_count": 14,
   "metadata": {},
   "outputs": [
    {
     "data": {
      "application/json": "[\"HelloPi\"]",
      "text/html": [
       "<ul><li>HelloPi</li></ul>"
      ],
      "text/plain": [
       "HelloPi"
      ]
     },
     "execution_count": 14,
     "metadata": {},
     "output_type": "execute_result"
    }
   ],
   "source": [
    "open Microsoft.Quantum.Extensions.Math;\n",
    "\n",
    "operation HelloPi() : Unit {\n",
    "    let pi = Microsoft.Quantum.Extensions.Convert.ToStringD(PI());\n",
    "    HelloQ(pi);\n",
    "}"
   ]
  },
  {
   "cell_type": "markdown",
   "metadata": {},
   "source": [
    "複数のoperationを一つのセルに定義したり，有効なQ#コードを利用することが可能です．例えば，"
   ]
  },
  {
   "cell_type": "code",
   "execution_count": 21,
   "metadata": {},
   "outputs": [
    {
     "data": {
      "application/json": "[\"PrepareRandomMessage\",\"SetMinus\",\"SetPlus\"]",
      "text/html": [
       "<ul><li>PrepareRandomMessage</li><li>SetMinus</li><li>SetPlus</li></ul>"
      ],
      "text/plain": [
       "PrepareRandomMessage, SetMinus, SetPlus"
      ]
     },
     "execution_count": 21,
     "metadata": {},
     "output_type": "execute_result"
    }
   ],
   "source": [
    "/// # Summary\n",
    "/// qビットの状態を|+>にする．\n",
    "operation SetPlus(q: Qubit) : Unit {\n",
    "    Reset(q);\n",
    "    H(q);\n",
    "}\n",
    "\n",
    "/// # Summary\n",
    "/// qビットの状態を|->にする．\n",
    "operation SetMinus(q: Qubit) : Unit {\n",
    "    Reset(q);\n",
    "    X(q);\n",
    "    H(q);\n",
    "}\n",
    "\n",
    "/// # Summary\n",
    "/// ランダムに|+>と|->を用意する．\n",
    "operation PrepareRandomMessage(q: Qubit) : Unit {\n",
    "\n",
    "    let choice = RandomInt(2);\n",
    "\n",
    "    if (choice == 0) {\n",
    "        Message(\"Prepared |->\");\n",
    "        SetMinus(q);\n",
    "    } else {\n",
    "        Message(\"Prepared |+>\");\n",
    "        SetPlus(q);\n",
    "    }\n",
    "}"
   ]
  },
  {
   "cell_type": "markdown",
   "metadata": {},
   "source": [
    "また，それらを利用した他のoperationを作成することができます．"
   ]
  },
  {
   "cell_type": "code",
   "execution_count": 22,
   "metadata": {},
   "outputs": [
    {
     "data": {
      "application/json": "[\"TestPrepareQubits\"]",
      "text/html": [
       "<ul><li>TestPrepareQubits</li></ul>"
      ],
      "text/plain": [
       "TestPrepareQubits"
      ]
     },
     "execution_count": 22,
     "metadata": {},
     "output_type": "execute_result"
    }
   ],
   "source": [
    "open Microsoft.Quantum.Extensions.Diagnostics;\n",
    "\n",
    "operation TestPrepareQubits() : Result {\n",
    "    mutable r = Zero;\n",
    "    \n",
    "    using (qubits = Qubit[5]) {\n",
    "        ApplyToEach(PrepareRandomMessage, qubits);\n",
    "        DumpMachine();\n",
    "        \n",
    "        set r = Measure([PauliX, PauliX, PauliX, PauliX, PauliX], qubits);\n",
    "        \n",
    "        ResetAll(qubits);\n",
    "    }\n",
    "    \n",
    "    return r;\n",
    "}"
   ]
  },
  {
   "cell_type": "markdown",
   "metadata": {},
   "source": [
    "## Simulating Q# operations\n",
    "Q# operationのコンパイルが成功すると，%simulateコマンドを用いてシミュレーションを行うことができます．例えば，"
   ]
  },
  {
   "cell_type": "code",
   "execution_count": 24,
   "metadata": {},
   "outputs": [
    {
     "name": "stdout",
     "output_type": "stream",
     "text": [
      "Hello 3.14159265358979!\n"
     ]
    },
    {
     "data": {
      "application/json": "{\"@type\":\"tuple\"}",
      "text/plain": [
       "()"
      ]
     },
     "execution_count": 24,
     "metadata": {},
     "output_type": "execute_result"
    }
   ],
   "source": [
    "%simulate HelloPi"
   ]
  },
  {
   "cell_type": "markdown",
   "metadata": {},
   "source": [
    "%simulateはnotebookにconsoleの出力を表示します．また，operationの返り値を返します．operationがUnitを返した場合には () を表示します．それ以外の場合は実際の値を表示します．\n",
    "\n",
    "%simulateは引数を取らないoperationだけを受け付けます．HelloQのようなパラメータを受け付けるようなoperationを実行したい場合，HelloPiの用に，パラメータに対応する値とともに実行されるラッパーoperationを作成します．\n",
    "\n",
    "上記のように全てのメッセージが表示されます．これはDumpMachineの呼び出しも含まれます．"
   ]
  },
  {
   "cell_type": "code",
   "execution_count": 25,
   "metadata": {},
   "outputs": [
    {
     "name": "stdout",
     "output_type": "stream",
     "text": [
      "Prepared |->\n",
      "Prepared |+>\n",
      "Prepared |+>\n",
      "Prepared |+>\n",
      "Prepared |->\n",
      "# wave function for qubits with ids (least to most significant): 0;1;2;3;4\n",
      "0:\t0.176776695296637\t0\n",
      "1:\t-0.176776695296637\t0\n",
      "2:\t0.176776695296637\t0\n",
      "3:\t-0.176776695296637\t0\n",
      "4:\t0.176776695296637\t0\n",
      "5:\t-0.176776695296637\t0\n",
      "6:\t0.176776695296637\t0\n",
      "7:\t-0.176776695296637\t0\n",
      "8:\t0.176776695296637\t0\n",
      "9:\t-0.176776695296637\t0\n",
      "10:\t0.176776695296637\t0\n",
      "11:\t-0.176776695296637\t0\n",
      "12:\t0.176776695296637\t0\n",
      "13:\t-0.176776695296637\t0\n",
      "14:\t0.176776695296637\t0\n",
      "15:\t-0.176776695296637\t0\n",
      "16:\t-0.176776695296637\t0\n",
      "17:\t0.176776695296637\t0\n",
      "18:\t-0.176776695296637\t0\n",
      "19:\t0.176776695296637\t0\n",
      "20:\t-0.176776695296637\t0\n",
      "21:\t0.176776695296637\t0\n",
      "22:\t-0.176776695296637\t0\n",
      "23:\t0.176776695296637\t0\n",
      "24:\t-0.176776695296637\t0\n",
      "25:\t0.176776695296637\t0\n",
      "26:\t-0.176776695296637\t0\n",
      "27:\t0.176776695296637\t0\n",
      "28:\t-0.176776695296637\t0\n",
      "29:\t0.176776695296637\t0\n",
      "30:\t-0.176776695296637\t0\n",
      "31:\t0.176776695296637\t0\n"
     ]
    },
    {
     "data": {
      "application/json": "0",
      "text/plain": [
       "Zero"
      ]
     },
     "execution_count": 25,
     "metadata": {},
     "output_type": "execute_result"
    }
   ],
   "source": [
    "%simulate TestPrepareQubits"
   ]
  },
  {
   "cell_type": "markdown",
   "metadata": {},
   "source": [
    "## リソースの推定\n",
    "%estimateコマンドは実際にoperationを実行することなく，与えられた量子operationを実行するのに必要なリソースを推定します．%simulateと同様に引数なしのoperationを受け付けます．しかしながら，%estimateはqビットの状態を追跡せず，operationの出力も返しません．そのかわり，QubitsやCNOTゲートなどのリソースがどれくらい必要であるかを返します．例えば，TestPrepareQubitsが使用するリソースは，"
   ]
  },
  {
   "cell_type": "code",
   "execution_count": 26,
   "metadata": {},
   "outputs": [
    {
     "data": {
      "application/json": "{\"CNOT\":0.0,\"QubitClifford\":10.0,\"R\":0.0,\"Measure\":11.0,\"T\":0.0,\"Depth\":0.0,\"Width\":5.0,\"BorrowedWidth\":0.0}",
      "text/html": [
       "<ul><li>[CNOT, 0]</li><li>[QubitClifford, 10]</li><li>[R, 0]</li><li>[Measure, 11]</li><li>[T, 0]</li><li>[Depth, 0]</li><li>[Width, 5]</li><li>[BorrowedWidth, 0]</li></ul>"
      ],
      "text/plain": [
       "[CNOT, 0], [QubitClifford, 10], [R, 0], [Measure, 11], [T, 0], [Depth, 0], [Width, 5], [BorrowedWidth, 0]"
      ]
     },
     "execution_count": 26,
     "metadata": {},
     "output_type": "execute_result"
    }
   ],
   "source": [
    "%estimate TestPrepareQubits"
   ]
  },
  {
   "cell_type": "markdown",
   "metadata": {},
   "source": [
    "リソース推定に関してさらに学ぶには，[The ResourceEstimator Target Machine](https://docs.microsoft.com/en-us/quantum/machines/resources-estimator?)のドキュメントを見てください．"
   ]
  },
  {
   "cell_type": "markdown",
   "metadata": {},
   "source": [
    "## ワークスペース\n",
    "ワークスペースを定義するためにnotebookはディスク上でそのnotebookが存在するフォルダを利用します．notebookは現在のフォルダ以下に存在する全てのQ#ファイル(.qs拡張子のついたすべてのファイル)のコンパイルを試みます．また，見つかったoperationをnotebook中のoperationが利用できるようにします．例えば，このフォルダにある[Operations.qs](./Operations.qs)ファイルは2つのoperationを定義しています．\n",
    "- Microsoft.Quantum.Samples.IsMinus\n",
    "- Microsoft.Quantum.Samples.IsPlus\n",
    "\n",
    "ワークスペース内で定義されたoperationのリストを取得するには%workspaceコマンドを利用します．"
   ]
  },
  {
   "cell_type": "code",
   "execution_count": 31,
   "metadata": {},
   "outputs": [
    {
     "data": {
      "application/json": "[\"Microsoft.Quantum.Samples.IsMinus\",\"Microsoft.Quantum.Samples.IsPlus\"]",
      "text/html": [
       "<ul><li>Microsoft.Quantum.Samples.IsMinus</li><li>Microsoft.Quantum.Samples.IsPlus</li></ul>"
      ],
      "text/plain": [
       "Microsoft.Quantum.Samples.IsMinus, Microsoft.Quantum.Samples.IsPlus"
      ]
     },
     "execution_count": 31,
     "metadata": {},
     "output_type": "execute_result"
    }
   ],
   "source": [
    "%workspace"
   ]
  },
  {
   "cell_type": "markdown",
   "metadata": {},
   "source": [
    "これらのoperationはこのnotebook内で利用可能です．例えば，"
   ]
  },
  {
   "cell_type": "code",
   "execution_count": 34,
   "metadata": {},
   "outputs": [
    {
     "data": {
      "application/json": "[\"CheckPlus\"]",
      "text/html": [
       "<ul><li>CheckPlus</li></ul>"
      ],
      "text/plain": [
       "CheckPlus"
      ]
     },
     "execution_count": 34,
     "metadata": {},
     "output_type": "execute_result"
    }
   ],
   "source": [
    "open Microsoft.Quantum.Samples;\n",
    "\n",
    "operation CheckPlus() : Bool {\n",
    "    mutable result = false;\n",
    "    \n",
    "    using (q = Qubit()) {\n",
    "        SetPlus(q);\n",
    "        set result = IsPlus(q);\n",
    "        \n",
    "        Reset(q);\n",
    "    }\n",
    "    \n",
    "    return result;\n",
    "}"
   ]
  },
  {
   "cell_type": "code",
   "execution_count": 35,
   "metadata": {},
   "outputs": [
    {
     "data": {
      "application/json": "true",
      "text/plain": [
       "True"
      ]
     },
     "execution_count": 35,
     "metadata": {},
     "output_type": "execute_result"
    }
   ],
   "source": [
    "%simulate CheckPlus"
   ]
  },
  {
   "cell_type": "markdown",
   "metadata": {},
   "source": [
    "ワークスペース内のQ#ファイルの変更を反映するには，%workspace reloadを使います．"
   ]
  },
  {
   "cell_type": "code",
   "execution_count": 36,
   "metadata": {},
   "outputs": [
    {
     "data": {
      "application/json": "[\"Microsoft.Quantum.Samples.IsMinus\",\"Microsoft.Quantum.Samples.IsPlus\"]",
      "text/html": [
       "<ul><li>Microsoft.Quantum.Samples.IsMinus</li><li>Microsoft.Quantum.Samples.IsPlus</li></ul>"
      ],
      "text/plain": [
       "Microsoft.Quantum.Samples.IsMinus, Microsoft.Quantum.Samples.IsPlus"
      ]
     },
     "execution_count": 36,
     "metadata": {},
     "output_type": "execute_result"
    }
   ],
   "source": [
    "%workspace reload"
   ]
  },
  {
   "cell_type": "markdown",
   "metadata": {},
   "source": [
    "## ヘルプを参照する\n",
    "Q#ではコメントを使ったoperationのドキュメントの追加をサポートしている．そのようなドキュメントが存在する際には，コードセル上でoperationの前か後にクエスチョンマークをつけることでnotebookからドキュメントにアクセスできる．例えば，"
   ]
  },
  {
   "cell_type": "code",
   "execution_count": 38,
   "metadata": {},
   "outputs": [
    {
     "data": {
      "application/json": "{\"name\":\"Microsoft.Quantum.Primitive.X\",\"kind\":1,\"source\":\"D:/a/1/s/src/simulation/Primitives/standard.qs\",\"documentation\":\" # Summary\\n Applies the Pauli $X$ gate.\\n\\n \\\\begin{align}\\n     \\\\sigma_x \\\\mathrel{:=}\\n     \\\\begin{bmatrix}\\n         0 & 1 \\\\\\\\\\\\\\\\\\n         1 & 0\\n     \\\\end{bmatrix}.\\n \\\\end{align}\\n\\n # Input\\n ## qubit\\n Qubit to which the gate should be applied.\"}",
      "text/html": [
       "<h4><i class=\"fa fas fa-terminal\"></i> Microsoft.Quantum.Primitive.X <a href=\"D:/a/1/s/src/simulation/Primitives/standard.qs\"><i class=\"fa fas fa-code\"></i></a></h4><h1>Summary</h1>\n",
       "<p>Applies the Pauli $X$ gate.</p>\n",
       "<p>\\begin{align}\n",
       "\\sigma_x \\mathrel{:=}\n",
       "\\begin{bmatrix}\n",
       "0 &amp; 1 \\\\\n",
       "1 &amp; 0\n",
       "\\end{bmatrix}.\n",
       "\\end{align}</p>\n",
       "<h1>Input</h1>\n",
       "<h2>qubit</h2>\n",
       "<p>Qubit to which the gate should be applied.</p>\n"
      ],
      "text/plain": [
       "Microsoft.Quantum.Primitive.X"
      ]
     },
     "execution_count": 38,
     "metadata": {},
     "output_type": "execute_result"
    }
   ],
   "source": [
    "Microsoft.Quantum.Primitive.X?"
   ]
  },
  {
   "cell_type": "markdown",
   "metadata": {},
   "source": [
    "この形式のドキュメントはPrelude，Canon，ワークスペースはもちろん，notebook上で定義されたoperationに対しても利用することができる．"
   ]
  },
  {
   "cell_type": "code",
   "execution_count": 39,
   "metadata": {},
   "outputs": [
    {
     "data": {
      "application/json": "{\"name\":\"PrepareRandomMessage\",\"kind\":1,\"source\":\"/snippet:1c20ebd6-f7cc-482d-8a05-b34684644429\",\"documentation\":\" # Summary\\n ランダムに|+>と|->を用意する．\"}",
      "text/html": [
       "<h4><i class=\"fa fas fa-terminal\"></i> PrepareRandomMessage <a href=\"/snippet:1c20ebd6-f7cc-482d-8a05-b34684644429\"><i class=\"fa fas fa-code\"></i></a></h4><h1>Summary</h1>\n",
       "<p>ランダムに|+&gt;と|-&gt;を用意する．</p>\n"
      ],
      "text/plain": [
       "PrepareRandomMessage"
      ]
     },
     "execution_count": 39,
     "metadata": {},
     "output_type": "execute_result"
    }
   ],
   "source": [
    "PrepareRandomMessage?"
   ]
  },
  {
   "cell_type": "markdown",
   "metadata": {},
   "source": [
    "## Other commands\n",
    "### %who\n",
    "%whoコマンドはローカル(notebook)とワークスペース上の全ての利用可能なoperationのリストを返す．"
   ]
  },
  {
   "cell_type": "code",
   "execution_count": 40,
   "metadata": {},
   "outputs": [
    {
     "data": {
      "application/json": "[\"ChckPlus\",\"CheckPlus\",\"HelloAndres\",\"HelloPi\",\"HelloQ\",\"Microsoft.Quantum.Samples.IsMinus\",\"Microsoft.Quantum.Samples.IsPlus\",\"PrepareRandomMessage\",\"SetMinus\",\"SetPlus\",\"TestPrepareQubits\"]",
      "text/html": [
       "<ul><li>ChckPlus</li><li>CheckPlus</li><li>HelloAndres</li><li>HelloPi</li><li>HelloQ</li><li>Microsoft.Quantum.Samples.IsMinus</li><li>Microsoft.Quantum.Samples.IsPlus</li><li>PrepareRandomMessage</li><li>SetMinus</li><li>SetPlus</li><li>TestPrepareQubits</li></ul>"
      ],
      "text/plain": [
       "ChckPlus, CheckPlus, HelloAndres, HelloPi, HelloQ, Microsoft.Quantum.Samples.IsMinus, Microsoft.Quantum.Samples.IsPlus, PrepareRandomMessage, SetMinus, SetPlus, TestPrepareQubits"
      ]
     },
     "execution_count": 40,
     "metadata": {},
     "output_type": "execute_result"
    }
   ],
   "source": [
    "%who"
   ]
  },
  {
   "cell_type": "markdown",
   "metadata": {},
   "source": [
    "### package\n",
    "%packageを使うとnuget packagesをロードして，そのpackage上で定義されているQ# operationを利用することができるようになります．例えば，[Q#の量子化学計算ライブラリ](https://docs.microsoft.com/en-us/quantum/libraries/chemistry/?view=qsharp-preview)のoperationを使用したいときは[Microsoft.Quantum.Chemistry](https://www.nuget.org/packages/Microsoft.Quantum.Chemistry/) nuget packageをロードして，"
   ]
  },
  {
   "cell_type": "code",
   "execution_count": 41,
   "metadata": {},
   "outputs": [
    {
     "name": "stderr",
     "output_type": "stream",
     "text": [
      "Unable to find package 'Microsoft.Quantum.Chemistry'. Existing packages must be restored before performing an install or update.\n"
     ]
    }
   ],
   "source": [
    "%package Microsoft.Quantum.Chemistry"
   ]
  },
  {
   "cell_type": "markdown",
   "metadata": {},
   "source": [
    "### %version\n",
    "%versionはIQ#とJupyter Core(IQ#で使われているライブラリ)の現在のバージョンを返します．"
   ]
  },
  {
   "cell_type": "code",
   "execution_count": 42,
   "metadata": {},
   "outputs": [
    {
     "data": {
      "application/json": "{\"rows\":[{\"@type\":\"@tuple\",\"Item1\":\"iqsharp\",\"Item2\":\"0.5.1903.2902\"},{\"@type\":\"@tuple\",\"Item1\":\"Jupyter Core\",\"Item2\":\"1.1.12077.0\"}]}",
      "text/html": [
       "<table><thead><tr><th>Component</th><th>Version</th></tr></thead><tbody><tr><td>iqsharp</td><td>0.5.1903.2902</td></tr><tr><td>Jupyter Core</td><td>1.1.12077.0</td></tr></tbody></table>"
      ],
      "text/plain": [
       "Component    Version\n",
       "------------ -------------\n",
       "iqsharp      0.5.1903.2902\n",
       "Jupyter Core 1.1.12077.0\n"
      ]
     },
     "metadata": {},
     "output_type": "display_data"
    }
   ],
   "source": [
    "%version"
   ]
  }
 ],
 "metadata": {
  "kernelspec": {
   "display_name": "Q#",
   "language": "qsharp",
   "name": "iqsharp"
  },
  "language_info": {
   "file_extension": ".qs",
   "mimetype": "text/x-qsharp",
   "name": "qsharp",
   "version": "0.4"
  }
 },
 "nbformat": 4,
 "nbformat_minor": 2
}
