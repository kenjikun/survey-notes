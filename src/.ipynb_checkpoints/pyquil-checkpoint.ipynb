{
 "cells": [
  {
   "cell_type": "code",
   "execution_count": 1,
   "metadata": {},
   "outputs": [],
   "source": [
    "from pyquil import Program, pyqvm, get_qc\n",
    "from pyquil.gates import *"
   ]
  },
  {
   "cell_type": "markdown",
   "metadata": {},
   "source": [
    "## 初期状態と測定"
   ]
  },
  {
   "cell_type": "code",
   "execution_count": 2,
   "metadata": {},
   "outputs": [
    {
     "name": "stdout",
     "output_type": "stream",
     "text": [
      "[[0]]\n"
     ]
    }
   ],
   "source": [
    "# 1qbitのqvm立ち上げ\n",
    "qc = get_qc('1q-qvm')\n",
    "# Programインスタンス立ち上げ時には|0>が入っている．\n",
    "p = Program()\n",
    "# declareで結果を格納するメモリを確保する．roはreadoutの略\n",
    "# 下の例では1bitの領域を確保している．\n",
    "ro = p.declare('ro', 'BIT', 1)\n",
    "# MEASUREによってro[0]にqubit 0の測定結果を格納\n",
    "# 今は1qbitのsystemにおいて|0>方向で測定している．systemが大きくなったときにはindexの付け方に注意．\n",
    "p += MEASURE(0, ro[0])\n",
    "\n",
    "executable = qc.compile(p)\n",
    "result = qc.run(executable)\n",
    "# expected to be [[0]]\n",
    "print(result)"
   ]
  },
  {
   "cell_type": "markdown",
   "metadata": {},
   "source": [
    "## Hadamard"
   ]
  },
  {
   "cell_type": "code",
   "execution_count": 3,
   "metadata": {},
   "outputs": [
    {
     "name": "stdout",
     "output_type": "stream",
     "text": [
      "0.5\n"
     ]
    }
   ],
   "source": [
    "p = Program()\n",
    "ro = p.declare('ro', 'BIT', 1)\n",
    "# Hadamardを|0>に作用させる\n",
    "p += H(0)\n",
    "p += MEASURE(0, ro[0])\n",
    "# Hadamardを作用させたことによって測定結果は確率的になるので1000回分やってみる\n",
    "p.wrap_in_numshots_loop(1000)\n",
    "executable = qc.compile(p)\n",
    "result = qc.run(executable)\n",
    "\n",
    "# expected to be ~ 0.5\n",
    "print(result.flatten().mean())"
   ]
  },
  {
   "cell_type": "code",
   "execution_count": 4,
   "metadata": {},
   "outputs": [
    {
     "name": "stdout",
     "output_type": "stream",
     "text": [
      "0.485\n"
     ]
    }
   ],
   "source": [
    "# run_and_measureとするとMEASUREからrunまでと同等\n",
    "p = Program()\n",
    "p += H(0)\n",
    "result = qc.run_and_measure(p, trials=1000)\n",
    "# ただし，qc.runではndarrayで結果が帰ってくるのに対しrun_and_measureではdictで得られる．\n",
    "# このdictのkeyはqubit, valueの配列(ndarray)のi番目の要素はi番目の測定結果が格納されている．\n",
    "print(result[0].mean())"
   ]
  },
  {
   "cell_type": "markdown",
   "metadata": {},
   "source": [
    "## Parametricなゲート\n",
    "- `qc.qam.random_seed=42`のようにrandom seedを指定すると結果が確率的になっていないように見える\n",
    "    - こんな感じになる\n",
    "    ```\n",
    "    [0, 0, 0, 0, 0, 0, 0, 0, 0, 0, 0, 0, 0, 0, 0, 0, 0, 0, 0, 0, 0, 0, 0, 0, 0, 0, 0, 0, 0, 0, 0, 0, 0, 0, 0, 0, 0, 0, 0, 0, 0, 0, 0, 0, 0, 0, 0, 0, 0, 0, 0, 0, 0, 0, 0, 0, 0, 0, 0, 1, 1, 1, 1, 1, 1, 1, 1, 1, 1, 1, 1, 1, 1, 1, 1, 1, 1, 1, 1, 1, 1, 1, 1, 1, 1, 1, 1, 1, 1, 1, 1, 1, 1, 1, 1, 1, 1, 1, 1, 1, 1, 1, 1, 1, 1, 1, 1, 1, 1, 1, 1, 1, 1, 1, 1, 1, 1, 1, 1, 1, 1, 1, 1, 1, 1, 1, 1, 1, 1, 1, 1, 1, 1, 1, 1, 1, 1, 1, 1, 1, 1, 0, 0, 0, 0, 0, 0, 0, 0, 0, 0, 0, 0, 0, 0, 0, 0, 0, 0, 0, 0, 0, 0, 0, 0, 0, 0, 0, 0, 0, 0, 0, 0, 0, 0, 0, 0, 0, 0, 0, 0, 0, 0, 0, 0, 0, 0, 0, 0, 0, 0, 0, 0, 0, 0, 0, 0, 0, 0, 0]\n",
    "    ```"
   ]
  },
  {
   "cell_type": "code",
   "execution_count": 5,
   "metadata": {},
   "outputs": [
    {
     "name": "stdout",
     "output_type": "stream",
     "text": [
      "[0, 0, 0, 0, 0, 0, 0, 0, 0, 0, 0, 0, 0, 0, 0, 0, 0, 0, 0, 0, 0, 0, 0, 1, 0, 0, 0, 0, 0, 0, 0, 0, 0, 1, 0, 0, 1, 0, 0, 0, 0, 1, 0, 1, 0, 1, 0, 1, 0, 0, 0, 0, 1, 1, 1, 0, 0, 1, 1, 1, 1, 1, 1, 1, 0, 1, 0, 1, 1, 1, 0, 1, 1, 1, 1, 1, 1, 1, 1, 1, 1, 1, 1, 1, 1, 1, 1, 1, 1, 1, 1, 1, 1, 1, 1, 1, 1, 1, 1, 1, 1, 1, 1, 1, 1, 1, 1, 1, 1, 1, 1, 1, 1, 1, 1, 1, 1, 1, 1, 1, 1, 1, 1, 1, 0, 1, 1, 0, 1, 1, 1, 1, 0, 1, 0, 0, 1, 1, 1, 1, 1, 1, 1, 0, 1, 1, 0, 1, 0, 1, 0, 0, 0, 0, 0, 0, 1, 0, 0, 1, 0, 0, 0, 0, 1, 1, 0, 0, 0, 1, 0, 0, 0, 0, 0, 1, 0, 0, 0, 0, 0, 0, 0, 0, 0, 0, 0, 0, 0, 0, 0, 0, 0, 0, 0, 0, 0, 0, 0, 0]\n"
     ]
    }
   ],
   "source": [
    "import numpy as np\n",
    "\n",
    "qubit = 0\n",
    "p = Program()\n",
    "ro = p.declare(\"ro\", \"BIT\", 1)\n",
    "theta_ref = p.declare(\"theta\", \"REAL\")\n",
    "p += RX(np.pi / 2, qubit)\n",
    "p += RZ(theta_ref, qubit)\n",
    "p += RX(-np.pi / 2, qubit)\n",
    "p += MEASURE(qubit, ro[0])\n",
    "\n",
    "executable = qc.compile(p)\n",
    "\n",
    "parametric_measurements = []\n",
    "for theta in np.linspace(0, 2 * np.pi, 200):\n",
    "    # ここでパラメータを指定できる\n",
    "    bitstrings = qc.run(executable, {'theta': [theta]})\n",
    "    parametric_measurements.append(bitstrings[0][0])\n",
    "# listの真ん中あたりが1になる確率が高い\n",
    "print(parametric_measurements)"
   ]
  },
  {
   "cell_type": "markdown",
   "metadata": {},
   "source": [
    "## CNOT"
   ]
  },
  {
   "cell_type": "code",
   "execution_count": 6,
   "metadata": {},
   "outputs": [
    {
     "name": "stdout",
     "output_type": "stream",
     "text": [
      "[[1 1]]\n"
     ]
    }
   ],
   "source": [
    "# 1qbitのqvm立ち上げ\n",
    "qc = get_qc('2q-qvm')\n",
    "p = Program()\n",
    "ro = p.declare(\"ro\", \"BIT\", 2)\n",
    "# |00> -> |10> by X\n",
    "p += X(0)\n",
    "# |10> -> |11> by CNOT\n",
    "p += X(1).controlled(0)\n",
    "p += MEASURE(0, ro[0])\n",
    "p += MEASURE(1, ro[1])\n",
    "\n",
    "executable = qc.compile(p)\n",
    "result = qc.run(executable)\n",
    "# expected to be [[1 1]]\n",
    "print(result)"
   ]
  },
  {
   "cell_type": "markdown",
   "metadata": {},
   "source": [
    "## 新しいゲートを定義"
   ]
  },
  {
   "cell_type": "code",
   "execution_count": 7,
   "metadata": {},
   "outputs": [
    {
     "name": "stdout",
     "output_type": "stream",
     "text": [
      "DEFGATE SQRT-X:\n",
      "    0.5+0.5i, 0.5-0.5i\n",
      "    0.5-0.5i, 0.5+0.5i\n",
      "\n",
      "SQRT-X 0\n",
      "\n"
     ]
    }
   ],
   "source": [
    "from pyquil.quil import DefGate\n",
    "sqrt_x = np.array([[ 0.5+0.5j,  0.5-0.5j],\n",
    "                   [ 0.5-0.5j,  0.5+0.5j]])\n",
    "\n",
    "# Get the Quil definition for the new gate\n",
    "# ここで，定義した行列がunitaryでない場合にはValue errorが出る．\n",
    "sqrt_x_definition = DefGate(\"SQRT-X\", sqrt_x)\n",
    "# Get the gate constructor\n",
    "SQRT_X = sqrt_x_definition.get_constructor()\n",
    "\n",
    "# Then we can use the new gate\n",
    "p = Program()\n",
    "p += sqrt_x_definition\n",
    "p += SQRT_X(0)\n",
    "print(p)"
   ]
  },
  {
   "cell_type": "markdown",
   "metadata": {},
   "source": [
    "## Parameterizeされたゲートを定義"
   ]
  },
  {
   "cell_type": "code",
   "execution_count": 8,
   "metadata": {},
   "outputs": [
    {
     "name": "stdout",
     "output_type": "stream",
     "text": [
      "DEFGATE CRX(%theta):\n",
      "    1, 0, 0, 0\n",
      "    0, 1, 0, 0\n",
      "    0, 0, COS(%theta/2), -i*SIN(%theta/2)\n",
      "    0, 0, -i*SIN(%theta/2), COS(%theta/2)\n",
      "\n",
      "H 0\n",
      "CRX(pi/2) 0 1\n",
      "\n"
     ]
    }
   ],
   "source": [
    "from pyquil.parameters import Parameter, quil_sin, quil_cos\n",
    "# Define the new gate from a matrix\n",
    "theta = Parameter('theta')\n",
    "crx = np.array([\n",
    "    [1, 0, 0, 0],\n",
    "    [0, 1, 0, 0],\n",
    "    [0, 0, quil_cos(theta / 2), -1j * quil_sin(theta / 2)],\n",
    "    [0, 0, -1j * quil_sin(theta / 2), quil_cos(theta / 2)]\n",
    "])\n",
    "# Parameterizeされているので明らかにunitaryでなくても実行時までエラー吐かないことに注意\n",
    "gate_definition = DefGate('CRX', crx, [theta])\n",
    "CRX = gate_definition.get_constructor()\n",
    "\n",
    "# Create our program and use the new parametric gate\n",
    "p = Program()\n",
    "p += gate_definition\n",
    "p += H(0)\n",
    "p += CRX(np.pi/2)(0, 1)\n",
    "print(p)"
   ]
  },
  {
   "cell_type": "markdown",
   "metadata": {},
   "source": [
    "## 波動関数シミュレータ\n",
    "- for debug\n",
    "- 量子プロセッサでは実現できない"
   ]
  },
  {
   "cell_type": "code",
   "execution_count": 9,
   "metadata": {},
   "outputs": [
    {
     "name": "stdout",
     "output_type": "stream",
     "text": [
      "(0.7071067812+0j)|0> + (0.7071067812+0j)|1>\n"
     ]
    }
   ],
   "source": [
    "from pyquil.api import WavefunctionSimulator\n",
    "wf_sim = WavefunctionSimulator()\n",
    "coin_flip = Program(H(0))\n",
    "wf = wf_sim.wavefunction(coin_flip)\n",
    "print(wf)"
   ]
  },
  {
   "cell_type": "markdown",
   "metadata": {},
   "source": [
    "## VQEの実装\n",
    "- [original paper](https://www.nature.com/articles/ncomms5213)の実装はちょっと大変なので簡単な問題を解いてみる\n",
    "- $\n",
    "  H=\\left(\n",
    "  \\begin{array}{cc}\n",
    "  1 & 0 \\\\ 0 & -1\n",
    "  \\end{array}\n",
    "  \\right)\n",
    "  $ の最小固有値$-1$を求めてみる．の最小固有値$-1$を求めてみる\n",
    "    - ansatzとしては$R_y(\\theta) \\left|0\\right>$をとってみる"
   ]
  },
  {
   "cell_type": "code",
   "execution_count": 10,
   "metadata": {},
   "outputs": [],
   "source": [
    "from pyquil.gates import RY"
   ]
  },
  {
   "cell_type": "code",
   "execution_count": 11,
   "metadata": {},
   "outputs": [
    {
     "name": "stdout",
     "output_type": "stream",
     "text": [
      "Optimization terminated successfully.\n",
      "         Current function value: -1.000000\n",
      "         Iterations: 11\n",
      "         Function evaluations: 25\n",
      " final_simplex: (array([[3.14159265],\n",
      "       [3.13177518]]), array([-1., -1.]))\n",
      "           fun: -1.0\n",
      "       message: 'Optimization terminated successfully.'\n",
      "          nfev: 25\n",
      "           nit: 11\n",
      "        status: 0\n",
      "       success: True\n",
      "             x: array([3.14159265])\n"
     ]
    }
   ],
   "source": [
    "from scipy.optimize import minimize\n",
    "\n",
    "class VQE:\n",
    "    def __init__(self, ex_h, qc, ansatz, optimizer, init_params, trials=1000):\n",
    "        self.ex_h = ex_h\n",
    "        self.qc = qc\n",
    "        self.ansatz = ansatz\n",
    "        self.trials = trials\n",
    "        self.optimizer = optimizer\n",
    "        self.init_params = init_params\n",
    "\n",
    "    \n",
    "    def expectation(self, params):\n",
    "        program = self.ansatz(params)\n",
    "        results = self.qc.run_and_measure(program, trials=self.trials)\n",
    "        return self.ex_h(results)\n",
    "                \n",
    "    def minimize(self):\n",
    "        return self.optimizer(self.expectation, self.init_params)\n",
    "\n",
    "# return parameterized ansatz\n",
    "def ansatz(params):\n",
    "    return Program(RY(params[0], 0))\n",
    "\n",
    "# calculate expectation value using results dict\n",
    "def ex_h(results):\n",
    "    s = 0\n",
    "    for r in results[0]:\n",
    "        if r == 0:\n",
    "            s += 1\n",
    "        else:\n",
    "            s -= 1\n",
    "    return s / len(results[0])\n",
    "\n",
    "# minimize function f with respect to parameters p\n",
    "def optimizer(f, p):\n",
    "    return minimize(f, p, method='Nelder-Mead', options={\"disp\": True, \"xatol\": 1.e-2})\n",
    "\n",
    "vqe = VQE(ex_h, get_qc(\"1q-qvm\"), ansatz, optimizer, [np.pi/2])\n",
    "print(vqe.minimize())"
   ]
  },
  {
   "cell_type": "markdown",
   "metadata": {},
   "source": [
    "### Grove\n",
    "実は[grove](https://github.com/rigetti/grove)を使うともっと簡単に実装可能"
   ]
  },
  {
   "cell_type": "code",
   "execution_count": 42,
   "metadata": {},
   "outputs": [
    {
     "name": "stdout",
     "output_type": "stream",
     "text": [
      "WARNING: Fast method for expectation will be used. Noise\n",
      "                     models will be ineffective\n",
      "{'x': array([3.14159265]), 'fun': -1.0}\n"
     ]
    }
   ],
   "source": [
    "from grove.pyvqe.vqe import VQE\n",
    "from pyquil import api\n",
    "from pyquil.paulis import sZ\n",
    "\n",
    "vqe = VQE(minimizer=minimize, minimizer_kwargs={'method': 'nelder-mead', \n",
    "          'options':{'xatol': 1.0e-2}})\n",
    " \n",
    "init_params = [np.pi/2]\n",
    "qvm = api.QVMConnection()\n",
    "result = vqe.vqe_run(ansatz, sZ(0), init_params, 1000, qvm=qvm)\n",
    "print(result)"
   ]
  }
 ],
 "metadata": {
  "kernelspec": {
   "display_name": "quantum",
   "language": "python",
   "name": "quantum"
  },
  "language_info": {
   "codemirror_mode": {
    "name": "ipython",
    "version": 3
   },
   "file_extension": ".py",
   "mimetype": "text/x-python",
   "name": "python",
   "nbconvert_exporter": "python",
   "pygments_lexer": "ipython3",
   "version": "3.6.8"
  }
 },
 "nbformat": 4,
 "nbformat_minor": 2
}
